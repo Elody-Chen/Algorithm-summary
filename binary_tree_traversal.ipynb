{
 "cells": [
  {
   "cell_type": "markdown",
   "metadata": {},
   "source": [
    "# Binary Tree Traversal"
   ]
  },
  {
   "cell_type": "markdown",
   "metadata": {},
   "source": [
    "## Definition for a binary tree node"
   ]
  },
  {
   "cell_type": "code",
   "execution_count": 86,
   "metadata": {},
   "outputs": [],
   "source": [
    "class TreeNode:\n",
    "    \"\"\"\n",
    "    Binary tree node\n",
    "    \"\"\"\n",
    "    def __init__(self, val=0, left=None, right=None):\n",
    "        self.val = val\n",
    "        self.left = left\n",
    "        self.right = right"
   ]
  },
  {
   "cell_type": "markdown",
   "metadata": {},
   "source": [
    "## Create a binary tree\n",
    "Create a binary tree according to a list"
   ]
  },
  {
   "cell_type": "code",
   "execution_count": 87,
   "metadata": {},
   "outputs": [],
   "source": [
    "def createTree(nums):\n",
    "    \"\"\"\n",
    "    Transform a list to a binary tree\n",
    "    :param nums: A tabular representation of a binary tree\n",
    "    :return: root node of a binary tree\n",
    "    \"\"\"\n",
    "\n",
    "    if len(nums) == 0 or nums == None:\n",
    "        return None\n",
    "    n = len(nums)\n",
    "    root = TreeNode(nums[0])\n",
    "    deque = list()\n",
    "    deque.insert(0, root)\n",
    "    isLeft = True\n",
    "    for i in range(1, n):\n",
    "        node = deque[-1]\n",
    "        if isLeft:\n",
    "            if nums[i] != None:\n",
    "                node.left = TreeNode(nums[i])\n",
    "                deque.insert(0, node.left)\n",
    "            isLeft = False\n",
    "        else:\n",
    "            if nums[i] != None:\n",
    "                node.right = TreeNode(nums[i])\n",
    "                deque.insert(0, node.right)\n",
    "            deque.pop()\n",
    "            isLeft = True\n",
    "    return root"
   ]
  },
  {
   "cell_type": "markdown",
   "metadata": {},
   "source": [
    "## Class of binary tree traversal"
   ]
  },
  {
   "cell_type": "code",
   "execution_count": 96,
   "metadata": {},
   "outputs": [],
   "source": [
    "class binaryTreeTraversal:\n",
    "    # preorder traversal\n",
    "    def preorderTraversal(self, root: TreeNode) -> list[int]:\n",
    "        if root == None:\n",
    "            return []\n",
    "        res = []\n",
    "        stack = []\n",
    "        stack.append(root)\n",
    "        while len(stack):\n",
    "            currNode = stack.pop()\n",
    "            res.append(currNode.val)\n",
    "            if currNode.right:\n",
    "                stack.append(currNode.right)\n",
    "            if currNode.left:\n",
    "                stack.append(currNode.left)\n",
    "        return res\n",
    "\n",
    "\n",
    "    # inorder traversal\n",
    "    def inorderTraversal(self, root: TreeNode) -> list[int]:\n",
    "        if root == None:\n",
    "            return []\n",
    "        currNode = root\n",
    "        res = []\n",
    "        stack = []\n",
    "        while len(stack) != 0 or currNode is not None:\n",
    "            while currNode is not None:\n",
    "                stack.append(currNode)\n",
    "                currNode = currNode.left\n",
    "            topNode = stack.pop()\n",
    "            res.append(topNode.val)\n",
    "            currNode = topNode.right\n",
    "        return res\n",
    "\n",
    "\n",
    "    # postorder traversal\n",
    "    def postorderTraversal(self, root: TreeNode) -> list[int]:\n",
    "        if root == None:\n",
    "            return []\n",
    "        res = []\n",
    "        stack = []\n",
    "        pre = None\n",
    "        currNode = root\n",
    "        while currNode != None or len(stack) != 0:\n",
    "            while currNode != None:\n",
    "                stack.append(currNode)\n",
    "                currNode = currNode.left\n",
    "            currNode = stack.pop()\n",
    "            if currNode.right == None or currNode.right == pre:\n",
    "                res.append(currNode.val)\n",
    "                pre = currNode\n",
    "                currNode = None\n",
    "            else:\n",
    "                stack.append(currNode)\n",
    "                currNode = currNode.right\n",
    "        return res\n",
    "\n",
    "    # level order traversal\n",
    "    def levelOrder(self, root: TreeNode) -> list[list[int]]:\n",
    "        if root == None:\n",
    "            return []\n",
    "        res = []\n",
    "        queue = []\n",
    "        queue.append(root)\n",
    "        while len(queue) != 0:\n",
    "            curLevelSize = len(queue)\n",
    "            res.append([])\n",
    "            for i in range(curLevelSize):\n",
    "                curNode = queue.pop(0)\n",
    "                res[-1].append(curNode.val)\n",
    "                if curNode.left != None:\n",
    "                    queue.append(curNode.left)\n",
    "                if curNode.right != None:\n",
    "                    queue.append(curNode.right)\n",
    "        return res"
   ]
  },
  {
   "cell_type": "markdown",
   "metadata": {},
   "source": [
    "## Case\n",
    "\n",
    "### Case 1"
   ]
  },
  {
   "cell_type": "code",
   "execution_count": 97,
   "metadata": {},
   "outputs": [],
   "source": [
    "nums = [1,2,3,None,5,6,7,8,None,None,9,10,11]\n",
    "# the tree structure of nums\n",
    "#     1\n",
    "#    / \\\n",
    "#   /   \\\n",
    "#  /     \\\n",
    "# 2       3\n",
    "#  \\     / \\\n",
    "#   \\   /   \\\n",
    "#    5 6     7\n",
    "#   /   \\   / \\\n",
    "#  8     9 10 11\n",
    "root = createTree(nums)"
   ]
  },
  {
   "cell_type": "code",
   "execution_count": 98,
   "metadata": {},
   "outputs": [],
   "source": [
    "traversal = binaryTreeTraversal()\n",
    "preorder = traversal.preorderTraversal(root)\n",
    "inorder = traversal.inorderTraversal(root)\n",
    "postorder = traversal.postorderTraversal(root)\n",
    "levelorder = traversal.levelOrder(root)"
   ]
  },
  {
   "cell_type": "markdown",
   "metadata": {},
   "source": [
    "### Case 2"
   ]
  },
  {
   "cell_type": "code",
   "execution_count": 100,
   "metadata": {},
   "outputs": [],
   "source": [
    "nums = [1, None, 3, 4, 5]\n",
    "# the structure of nums\n",
    "# 1\n",
    "#  \\\n",
    "#   3\n",
    "#  / \\\n",
    "# 4   5 \n",
    "root = createTree(nums)"
   ]
  },
  {
   "cell_type": "code",
   "execution_count": 101,
   "metadata": {},
   "outputs": [],
   "source": [
    "traversal = binaryTreeTraversal()\n",
    "preorder = traversal.preorderTraversal(root)\n",
    "inorder = traversal.inorderTraversal(root)\n",
    "postorder = traversal.postorderTraversal(root)\n",
    "levelorder = traversal.levelOrder(root)"
   ]
  }
 ],
 "metadata": {
  "interpreter": {
   "hash": "e83c87145cfd5d139b0a7599b26c7533043aedf92a6f420dd74299e47a5263f5"
  },
  "kernelspec": {
   "display_name": "Python 3.9.7 ('base')",
   "language": "python",
   "name": "python3"
  },
  "language_info": {
   "codemirror_mode": {
    "name": "ipython",
    "version": 3
   },
   "file_extension": ".py",
   "mimetype": "text/x-python",
   "name": "python",
   "nbconvert_exporter": "python",
   "pygments_lexer": "ipython3",
   "version": "3.9.7"
  },
  "orig_nbformat": 4
 },
 "nbformat": 4,
 "nbformat_minor": 2
}
