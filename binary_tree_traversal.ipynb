{
 "cells": [
  {
   "cell_type": "markdown",
   "metadata": {},
   "source": [
    "# Binary Tree"
   ]
  },
  {
   "cell_type": "markdown",
   "metadata": {},
   "source": [
    "## Binary Tree Traversal"
   ]
  },
  {
   "cell_type": "markdown",
   "metadata": {},
   "source": [
    "### Definition for a binary tree node"
   ]
  },
  {
   "cell_type": "code",
   "execution_count": 1,
   "metadata": {},
   "outputs": [],
   "source": [
    "class TreeNode:\n",
    "    \"\"\"\n",
    "    Binary tree node\n",
    "    \"\"\"\n",
    "    def __init__(self, val=0, left=None, right=None):\n",
    "        self.val = val\n",
    "        self.left = left\n",
    "        self.right = right"
   ]
  },
  {
   "cell_type": "markdown",
   "metadata": {},
   "source": [
    "### Create a binary tree\n",
    "Create a binary tree according to a list"
   ]
  },
  {
   "cell_type": "code",
   "execution_count": 2,
   "metadata": {},
   "outputs": [],
   "source": [
    "def createTree(nums):\n",
    "    \"\"\"\n",
    "    Transform a list to a binary tree\n",
    "    :param nums: A tabular representation of a binary tree\n",
    "    :return: root node of a binary tree\n",
    "    \"\"\"\n",
    "    if len(nums) == 0 or nums == None:\n",
    "        return None\n",
    "    n = len(nums)\n",
    "    root = TreeNode(nums[0])\n",
    "    deque = list()\n",
    "    deque.insert(0, root)\n",
    "    isLeft = True\n",
    "    for i in range(1, n):\n",
    "        node = deque[-1]\n",
    "        if isLeft:\n",
    "            if nums[i] != None:\n",
    "                node.left = TreeNode(nums[i])\n",
    "                deque.insert(0, node.left)\n",
    "            isLeft = False\n",
    "        else:\n",
    "            if nums[i] != None:\n",
    "                node.right = TreeNode(nums[i])\n",
    "                deque.insert(0, node.right)\n",
    "            deque.pop()\n",
    "            isLeft = True\n",
    "    return root"
   ]
  },
  {
   "cell_type": "markdown",
   "metadata": {},
   "source": [
    "### Class of binary tree traversal\n",
    "\n",
    "#### Iteration algorithm to traverse binary tree"
   ]
  },
  {
   "cell_type": "code",
   "execution_count": 3,
   "metadata": {},
   "outputs": [],
   "source": [
    "class iterativeBinaryTreeTraversal:\n",
    "    # preorder traversal\n",
    "    def preorderTraversal(self, root: TreeNode) -> list[int]:\n",
    "        if root == None:\n",
    "            return []\n",
    "        res = []\n",
    "        stack = []\n",
    "        stack.append(root)\n",
    "        while len(stack):\n",
    "            currNode = stack.pop()\n",
    "            res.append(currNode.val)\n",
    "            if currNode.right:\n",
    "                stack.append(currNode.right)\n",
    "            if currNode.left:\n",
    "                stack.append(currNode.left)\n",
    "        return res\n",
    "\n",
    "\n",
    "    # inorder traversal\n",
    "    def inorderTraversal(self, root: TreeNode) -> list[int]:\n",
    "        if root == None:\n",
    "            return []\n",
    "        currNode = root\n",
    "        res = []\n",
    "        stack = []\n",
    "        while len(stack) != 0 or currNode is not None:\n",
    "            while currNode is not None:\n",
    "                stack.append(currNode)\n",
    "                currNode = currNode.left\n",
    "            topNode = stack.pop()\n",
    "            res.append(topNode.val)\n",
    "            currNode = topNode.right\n",
    "        return res\n",
    "\n",
    "\n",
    "    # postorder traversal\n",
    "    def postorderTraversal(self, root: TreeNode) -> list[int]:\n",
    "        if root == None:\n",
    "            return []\n",
    "        res = []\n",
    "        stack = []\n",
    "        pre = None\n",
    "        currNode = root\n",
    "        while currNode != None or len(stack) != 0:\n",
    "            while currNode != None:\n",
    "                stack.append(currNode)\n",
    "                currNode = currNode.left\n",
    "            currNode = stack.pop()\n",
    "            if currNode.right == None or currNode.right == pre:\n",
    "                res.append(currNode.val)\n",
    "                pre = currNode\n",
    "                currNode = None\n",
    "            else:\n",
    "                stack.append(currNode)\n",
    "                currNode = currNode.right\n",
    "        return res\n",
    "\n",
    "    # level order traversal\n",
    "    def levelOrder(self, root: TreeNode) -> list[list[int]]:\n",
    "        if root == None:\n",
    "            return []\n",
    "        res = []\n",
    "        queue = []\n",
    "        queue.append(root)\n",
    "        while len(queue) != 0:\n",
    "            curLevelSize = len(queue)\n",
    "            res.append([])\n",
    "            for i in range(curLevelSize):\n",
    "                curNode = queue.pop(0)\n",
    "                res[-1].append(curNode.val)\n",
    "                if curNode.left != None:\n",
    "                    queue.append(curNode.left)\n",
    "                if curNode.right != None:\n",
    "                    queue.append(curNode.right)\n",
    "        return res"
   ]
  },
  {
   "cell_type": "markdown",
   "metadata": {},
   "source": [
    "#### Recursive algorithm to traverse binary tree"
   ]
  },
  {
   "cell_type": "code",
   "execution_count": 4,
   "metadata": {},
   "outputs": [],
   "source": [
    "class recursiveBinaryTreeTraversal:\n",
    "    # preorder traversal \n",
    "    def preorderTraversal(self, root: TreeNode) -> list[int]:\n",
    "        if root == None:\n",
    "            return []\n",
    "        res = []\n",
    "        # root -> left -> right\n",
    "        res.append(root.val)\n",
    "        res += self.preorderTraversal(root.left)\n",
    "        res += self.preorderTraversal(root.right)\n",
    "\n",
    "        return res\n",
    "\n",
    "    # inorder traversal\n",
    "    def inorderTraversal(self, root: TreeNode) -> list[int]:\n",
    "        if root == None:\n",
    "            return []\n",
    "        res = []\n",
    "        # left -> root -> right\n",
    "        res += self.inorderTraversal(root.left)\n",
    "        res.append(root.val)\n",
    "        res += self.inorderTraversal(root.right)\n",
    "\n",
    "        return res\n",
    "\n",
    "    # postorder traversal\n",
    "    def postorderTraversal(self, root: TreeNode) -> list[int]:\n",
    "        if root == None:\n",
    "            return []\n",
    "        res = []\n",
    "        # left -> right -> root\n",
    "        res += self.postorderTraversal(root.left)\n",
    "        res += self.postorderTraversal(root.right)\n",
    "        res.append(root.val)\n",
    "        \n",
    "        return res"
   ]
  },
  {
   "cell_type": "markdown",
   "metadata": {},
   "source": [
    "#### Case\n",
    "\n",
    "##### Case 1"
   ]
  },
  {
   "cell_type": "code",
   "execution_count": 5,
   "metadata": {},
   "outputs": [],
   "source": [
    "nums = [1,2,3,None,5,6,7,8,None,None,9,10,11]\n",
    "# the tree structure of nums\n",
    "#     1\n",
    "#    / \\\n",
    "#   /   \\\n",
    "#  /     \\\n",
    "# 2       3\n",
    "#  \\     / \\\n",
    "#   \\   /   \\\n",
    "#    5 6     7\n",
    "#   /   \\   / \\\n",
    "#  8     9 10 11\n",
    "root = createTree(nums)"
   ]
  },
  {
   "cell_type": "code",
   "execution_count": 6,
   "metadata": {},
   "outputs": [
    {
     "name": "stdout",
     "output_type": "stream",
     "text": [
      "[1, 2, 5, 8, 3, 6, 9, 7, 10, 11]\n",
      "[2, 8, 5, 1, 6, 9, 3, 10, 7, 11]\n",
      "[8, 5, 2, 9, 6, 10, 11, 7, 3, 1]\n",
      "[[1], [2, 3], [5, 6, 7], [8, 9, 10, 11]]\n"
     ]
    }
   ],
   "source": [
    "# iterative result\n",
    "iterTraversal = iterativeBinaryTreeTraversal()\n",
    "preorder = iterTraversal.preorderTraversal(root)\n",
    "inorder = iterTraversal.inorderTraversal(root)\n",
    "postorder = iterTraversal.postorderTraversal(root)\n",
    "levelorder = iterTraversal.levelOrder(root)\n",
    "print(preorder)\n",
    "print(inorder)\n",
    "print(postorder)\n",
    "print(levelorder)"
   ]
  },
  {
   "cell_type": "code",
   "execution_count": 7,
   "metadata": {},
   "outputs": [
    {
     "name": "stdout",
     "output_type": "stream",
     "text": [
      "[1, 2, 5, 8, 3, 6, 9, 7, 10, 11]\n",
      "[2, 8, 5, 1, 6, 9, 3, 10, 7, 11]\n",
      "[8, 5, 2, 9, 6, 10, 11, 7, 3, 1]\n"
     ]
    }
   ],
   "source": [
    "# recursive results\n",
    "recurTraversal = recursiveBinaryTreeTraversal()\n",
    "preorder = recurTraversal.preorderTraversal(root)\n",
    "inorder = recurTraversal.inorderTraversal(root)\n",
    "postorder = recurTraversal.postorderTraversal(root)\n",
    "print(preorder)\n",
    "print(inorder)\n",
    "print(postorder)"
   ]
  },
  {
   "cell_type": "markdown",
   "metadata": {},
   "source": [
    "##### Case 2"
   ]
  },
  {
   "cell_type": "code",
   "execution_count": 8,
   "metadata": {},
   "outputs": [],
   "source": [
    "nums = [1, None, 3, 4, 5]\n",
    "# the structure of nums\n",
    "# 1\n",
    "#  \\\n",
    "#   3\n",
    "#  / \\\n",
    "# 4   5 \n",
    "root = createTree(nums)"
   ]
  },
  {
   "cell_type": "code",
   "execution_count": 9,
   "metadata": {},
   "outputs": [
    {
     "name": "stdout",
     "output_type": "stream",
     "text": [
      "[1, 3, 4, 5]\n",
      "[1, 4, 3, 5]\n",
      "[4, 5, 3, 1]\n",
      "[[1], [3], [4, 5]]\n"
     ]
    }
   ],
   "source": [
    "# iteration result\n",
    "iterTraversal = iterativeBinaryTreeTraversal()\n",
    "preorder = iterTraversal.preorderTraversal(root)\n",
    "inorder = iterTraversal.inorderTraversal(root)\n",
    "postorder = iterTraversal.postorderTraversal(root)\n",
    "levelorder = iterTraversal.levelOrder(root)\n",
    "print(preorder)\n",
    "print(inorder)\n",
    "print(postorder)\n",
    "print(levelorder)"
   ]
  },
  {
   "cell_type": "code",
   "execution_count": 10,
   "metadata": {},
   "outputs": [
    {
     "name": "stdout",
     "output_type": "stream",
     "text": [
      "[1, 3, 4, 5]\n",
      "[1, 4, 3, 5]\n",
      "[4, 5, 3, 1]\n"
     ]
    }
   ],
   "source": [
    "# recursive results\n",
    "recurTraversal = recursiveBinaryTreeTraversal()\n",
    "preorder = recurTraversal.preorderTraversal(root)\n",
    "inorder = recurTraversal.inorderTraversal(root)\n",
    "postorder = recurTraversal.postorderTraversal(root)\n",
    "print(preorder)\n",
    "print(inorder)\n",
    "print(postorder)"
   ]
  },
  {
   "cell_type": "markdown",
   "metadata": {},
   "source": [
    "## Bulid Binary Tree\n",
    "\n",
    "Rebuild the binary tree from the traversal sequence of the binary tree\n",
    "\n",
    "### Ordinary Binary Tree"
   ]
  },
  {
   "cell_type": "code",
   "execution_count": 11,
   "metadata": {},
   "outputs": [],
   "source": [
    "class bulidTree:\n",
    "    def preorderInorder(self, preorder: list, inorder: list) -> TreeNode:\n",
    "        \"\"\"\n",
    "        Rebuild a binary tree based on preorder traversal and inorder traversal of the binary tree.\n",
    "        :type preorder: list\n",
    "        :type inorder: list\n",
    "        :rtype: TreeNode\n",
    "        \"\"\"\n",
    "        if not preorder:\n",
    "            return None\n",
    "        root = TreeNode(preorder[0])\n",
    "        pivotIndex = 0\n",
    "        for i in range(len(inorder)):\n",
    "            if inorder[i] == preorder[0]:\n",
    "                pivotIndex = i\n",
    "                break\n",
    "        \n",
    "        root.left = self.preorderInorder(preorder[1:pivotIndex + 1], inorder[0:pivotIndex])\n",
    "        root.right = self.preorderInorder(preorder[pivotIndex + 1:], inorder[pivotIndex + 1:])\n",
    "        return root\n",
    "\n",
    "\n",
    "    def postorderInorder(self, inorder: list, postorder: list) -> TreeNode:\n",
    "        \"\"\"\n",
    "        Rebuild a binary tree based on postorder traversal and inorder traversal of the binary tree.\n",
    "        :type inorder: list\n",
    "        :type postorder: list\n",
    "        :rtype: TreeNode\n",
    "        \"\"\"\n",
    "        if not postorder:\n",
    "            return None\n",
    "        root = TreeNode(postorder[-1])\n",
    "        pivotIndex = 0\n",
    "        for i in range(len(inorder)):\n",
    "            if root.val == inorder[i]:\n",
    "                pivotIndex = i\n",
    "                break\n",
    "\n",
    "        root.left = self.postorderInorder(inorder[0:pivotIndex], postorder[0:pivotIndex])\n",
    "        root.right = self.postorderInorder(inorder[pivotIndex + 1:], postorder[pivotIndex:-1])\n",
    "        return root\n",
    "        "
   ]
  },
  {
   "cell_type": "markdown",
   "metadata": {},
   "source": [
    "#### Case\n",
    "\n",
    "Use the case 1 of binary tree traversal results."
   ]
  },
  {
   "cell_type": "code",
   "execution_count": 12,
   "metadata": {},
   "outputs": [],
   "source": [
    "preorder = [1, 2, 5, 8, 3, 6, 9, 7, 10, 11]\n",
    "inorder = [2, 8, 5, 1, 6, 9, 3, 10, 7, 11]\n",
    "postorder = [8, 5, 2, 9, 6, 10, 11, 7, 3, 1]"
   ]
  },
  {
   "cell_type": "code",
   "execution_count": 13,
   "metadata": {},
   "outputs": [
    {
     "name": "stdout",
     "output_type": "stream",
     "text": [
      "[1, 2, 5, 8, 3, 6, 9, 7, 10, 11]\n",
      "[2, 8, 5, 1, 6, 9, 3, 10, 7, 11]\n",
      "[8, 5, 2, 9, 6, 10, 11, 7, 3, 1]\n"
     ]
    }
   ],
   "source": [
    "# build the tree with its traversal sequences and check it with its according traversal results\n",
    "# use preorder and inorder\n",
    "bulidTreeInstance = bulidTree()\n",
    "root = bulidTreeInstance.preorderInorder(preorder, inorder)\n",
    "# check its preorder, inorder and postorder traversal results\n",
    "traversal = recursiveBinaryTreeTraversal()\n",
    "preorderBuild = traversal.preorderTraversal(root)\n",
    "inorderBuild = traversal.inorderTraversal(root)\n",
    "postorderBuild = traversal.postorderTraversal(root)\n",
    "print(preorderBuild)\n",
    "print(inorderBuild)\n",
    "print(postorderBuild)"
   ]
  },
  {
   "cell_type": "code",
   "execution_count": 14,
   "metadata": {},
   "outputs": [
    {
     "name": "stdout",
     "output_type": "stream",
     "text": [
      "[1, 2, 5, 8, 3, 6, 9, 7, 10, 11]\n",
      "[2, 8, 5, 1, 6, 9, 3, 10, 7, 11]\n",
      "[8, 5, 2, 9, 6, 10, 11, 7, 3, 1]\n"
     ]
    }
   ],
   "source": [
    "# use inorder and postorder\n",
    "bulidTreeInstance = bulidTree()\n",
    "root = bulidTreeInstance.postorderInorder(inorder, postorder)\n",
    "# check its preorder, inorder and postorder traversal results\n",
    "traversal = recursiveBinaryTreeTraversal()\n",
    "preorderBuild = traversal.preorderTraversal(root)\n",
    "inorderBuild = traversal.inorderTraversal(root)\n",
    "postorderBuild = traversal.postorderTraversal(root)\n",
    "print(preorderBuild)\n",
    "print(inorderBuild)\n",
    "print(postorderBuild)"
   ]
  },
  {
   "cell_type": "code",
   "execution_count": null,
   "metadata": {},
   "outputs": [],
   "source": []
  }
 ],
 "metadata": {
  "interpreter": {
   "hash": "e83c87145cfd5d139b0a7599b26c7533043aedf92a6f420dd74299e47a5263f5"
  },
  "kernelspec": {
   "display_name": "Python 3.9.7 ('base')",
   "language": "python",
   "name": "python3"
  },
  "language_info": {
   "codemirror_mode": {
    "name": "ipython",
    "version": 3
   },
   "file_extension": ".py",
   "mimetype": "text/x-python",
   "name": "python",
   "nbconvert_exporter": "python",
   "pygments_lexer": "ipython3",
   "version": "3.9.7"
  },
  "orig_nbformat": 4
 },
 "nbformat": 4,
 "nbformat_minor": 2
}
