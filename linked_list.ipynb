{
 "cells": [
  {
   "cell_type": "markdown",
   "metadata": {},
   "source": [
    "# Linked List\n",
    "\n",
    "## One-way Linked List"
   ]
  },
  {
   "cell_type": "code",
   "execution_count": 1,
   "metadata": {},
   "outputs": [],
   "source": [
    "# Define the node of one-way linked list\n",
    "class ListNode:\n",
    "    def __init__(self, val):\n",
    "        self.val = val\n",
    "        self.next = None"
   ]
  },
  {
   "cell_type": "code",
   "execution_count": 2,
   "metadata": {},
   "outputs": [],
   "source": [
    "class LinkedList:\n",
    "    \"\"\"\n",
    "    Define one-way linked list from https://leetcode.cn/problems/design-linked-list/solution/she-ji-lian-biao-by-leetcode/\n",
    "    \"\"\"\n",
    "    def __init__(self):\n",
    "        self.size = 0\n",
    "        # Sentinel node as pseudo-head\n",
    "        self._head = ListNode(0)\n",
    "\n",
    "\n",
    "    def __repr__(self):\n",
    "        \"\"\"\n",
    "        Returns the normalized string representation\n",
    "        \"\"\"\n",
    "        currNode = self._head\n",
    "        # Notice that the first node is pseudo-head, don't need to read it\n",
    "        res = []\n",
    "        while currNode.next != None:\n",
    "            currNode = currNode.next\n",
    "            res.append(currNode.val)\n",
    "            \n",
    "        return \"LinkedList({})\".format(res)\n",
    "\n",
    "\n",
    "    def get(self, index: int) -> int:\n",
    "        \"\"\"\n",
    "        Get the value of the index-th node in the linked list. If the index is invalid, return -1.\n",
    "        \"\"\"\n",
    "        if index < 0 or index >= self.size:\n",
    "            return -1\n",
    "        currNode = self._head\n",
    "        for _ in range(index + 1):\n",
    "            currNode = currNode.next\n",
    "\n",
    "        return currNode.val\n",
    "\n",
    "\n",
    "    def addAtHead(self, val: int) -> None:\n",
    "        \"\"\"\n",
    "        Add a node of value val before the first element of the linked list.\n",
    "        After the insertion, the new node will be the first node of the linked list.\n",
    "        \"\"\"\n",
    "        self.addAtIndex(0, val)\n",
    "\n",
    "\n",
    "    def addAtTail(self, val: int) -> None:\n",
    "        \"\"\"\n",
    "        Append a node of value val to the last element of the linked list.\n",
    "        \"\"\"\n",
    "        self.addAtIndex(self.size, val)\n",
    "\n",
    "\n",
    "    def addAtIndex(self, index: int, val: int) -> None:\n",
    "        \"\"\"\n",
    "        Add a node of value val before the index-th node in the linked list.\n",
    "        If index equals to the length of linked list, the node will be appended to the end of linked list.\n",
    "        If index is greater than the length, the node will not be inserted.\n",
    "        \"\"\"\n",
    "        if index > self.size:\n",
    "            return\n",
    "        if index < 0:\n",
    "            index = 0\n",
    "        currNode = self._head\n",
    "        # Need index steps to move to the insert position before\n",
    "        for _ in range(index):\n",
    "            currNode = currNode.next\n",
    "        toAdd = ListNode(val)\n",
    "        toAdd.next = currNode.next\n",
    "        currNode.next = toAdd\n",
    "        self.size += 1\n",
    "\n",
    "\n",
    "    def deleteAtIndex(self, index: int) -> None:\n",
    "        \"\"\"\n",
    "        Delete the index-th node in the linked list if the index is valid.\n",
    "        \"\"\"\n",
    "        if index < 0 or index >= self.size:\n",
    "            return\n",
    "        currNode = self._head\n",
    "        # Need index steps to move to the delete position before\n",
    "        for _ in range(index):\n",
    "            currNode = currNode.next\n",
    "        currNode.next = currNode.next.next\n",
    "        self.size -= 1"
   ]
  },
  {
   "cell_type": "markdown",
   "metadata": {},
   "source": [
    "### Case 1"
   ]
  },
  {
   "cell_type": "code",
   "execution_count": 3,
   "metadata": {},
   "outputs": [
    {
     "data": {
      "text/plain": [
       "LinkedList([5, 3, 1])"
      ]
     },
     "execution_count": 3,
     "metadata": {},
     "output_type": "execute_result"
    }
   ],
   "source": [
    "myLinkedList = LinkedList()\n",
    "myLinkedList.addAtHead(1)\n",
    "myLinkedList.addAtHead(3)\n",
    "myLinkedList.addAtHead(5)\n",
    "myLinkedList"
   ]
  },
  {
   "cell_type": "code",
   "execution_count": 4,
   "metadata": {},
   "outputs": [
    {
     "data": {
      "text/plain": [
       "LinkedList([5, 3, 9, 1, 7])"
      ]
     },
     "execution_count": 4,
     "metadata": {},
     "output_type": "execute_result"
    }
   ],
   "source": [
    "myLinkedList.addAtTail(7)\n",
    "myLinkedList.addAtIndex(2, 9)\n",
    "myLinkedList"
   ]
  },
  {
   "cell_type": "code",
   "execution_count": 5,
   "metadata": {},
   "outputs": [
    {
     "data": {
      "text/plain": [
       "9"
      ]
     },
     "execution_count": 5,
     "metadata": {},
     "output_type": "execute_result"
    }
   ],
   "source": [
    "myLinkedList.get(2)"
   ]
  },
  {
   "cell_type": "code",
   "execution_count": 6,
   "metadata": {},
   "outputs": [
    {
     "data": {
      "text/plain": [
       "LinkedList([5, 3, 9, 1, 7])"
      ]
     },
     "execution_count": 6,
     "metadata": {},
     "output_type": "execute_result"
    }
   ],
   "source": [
    "myLinkedList.deleteAtIndex(9)\n",
    "myLinkedList"
   ]
  },
  {
   "cell_type": "code",
   "execution_count": 7,
   "metadata": {},
   "outputs": [
    {
     "data": {
      "text/plain": [
       "LinkedList([5, 3, 9, 7])"
      ]
     },
     "execution_count": 7,
     "metadata": {},
     "output_type": "execute_result"
    }
   ],
   "source": [
    "myLinkedList.deleteAtIndex(3)\n",
    "myLinkedList"
   ]
  },
  {
   "cell_type": "code",
   "execution_count": 8,
   "metadata": {},
   "outputs": [
    {
     "data": {
      "text/plain": [
       "4"
      ]
     },
     "execution_count": 8,
     "metadata": {},
     "output_type": "execute_result"
    }
   ],
   "source": [
    "myLinkedList.size"
   ]
  },
  {
   "cell_type": "markdown",
   "metadata": {},
   "source": [
    "## Double Linked List"
   ]
  },
  {
   "cell_type": "code",
   "execution_count": 9,
   "metadata": {},
   "outputs": [],
   "source": [
    "# Define the node of double linked list\n",
    "class DoubleListNode:\n",
    "    def __init__(self, val: int):\n",
    "        self.val = val\n",
    "        self.prev = None\n",
    "        self.next = None"
   ]
  },
  {
   "cell_type": "code",
   "execution_count": 10,
   "metadata": {},
   "outputs": [],
   "source": [
    "class DoubleLinkedList():\n",
    "    def __init__(self):\n",
    "        self.size = 0\n",
    "        self._head = DoubleListNode(0)\n",
    "        self._tail = DoubleListNode(0)\n",
    "        self._head.next = self._tail\n",
    "        self._tail.prev = self._head\n",
    "    \n",
    "\n",
    "    def __repr__(self):\n",
    "        \"\"\"\n",
    "        Returns the normalized string representation\n",
    "        \"\"\"\n",
    "        currNode = self._head\n",
    "        # Notice that the first node is pseudo-head, don't need to read it\n",
    "        res = []\n",
    "        while currNode.next != self._tail:\n",
    "            currNode = currNode.next\n",
    "            res.append(currNode.val)\n",
    "        return \"DoubleLinkedList({})\".format(res)\n",
    "\n",
    "\n",
    "    def __getNode(self, index: int) -> DoubleListNode:\n",
    "        \"\"\"\n",
    "        Get the index-th node in the double linked list.\n",
    "        \"\"\"\n",
    "        if index < self.size // 2:\n",
    "            currNode = self._head\n",
    "            for _ in range(index + 1):\n",
    "                currNode = currNode.next\n",
    "            return currNode\n",
    "        else:\n",
    "            currNode = self._tail\n",
    "            for _ in range(self.size - index):\n",
    "                currNode = currNode.prev\n",
    "            return currNode\n",
    "\n",
    "\n",
    "    def get(self, index: int) -> int:\n",
    "        \"\"\"\n",
    "        Get the value of the index-th node in the double linked list.\n",
    "        If the index is invalid(small than 0 or big than the length of linked list), return -1.\n",
    "        \"\"\"\n",
    "        if index < 0 or index >= self.size:\n",
    "            return -1\n",
    "        indexNode = self.__getNode(index)\n",
    "        return indexNode.val\n",
    "    \n",
    "\n",
    "    def addAtHead(self, val: int):\n",
    "        \"\"\"\n",
    "        Add a node of value val before the first element of the double linked list.\n",
    "        After the insertion, the new node will be the first node of the double linked list.\n",
    "        \"\"\"\n",
    "        self.addAtIndex(0, val)\n",
    "\n",
    "\n",
    "    def addAtTail(self, val: int):\n",
    "        \"\"\"\n",
    "        Add a node of value val after the last element of the double linked list.\n",
    "        Adter the insertion, the new node will be the last node of the double linked list.\n",
    "        \"\"\"\n",
    "        self.addAtIndex(self.size, val)\n",
    "\n",
    "\n",
    "    def addAtIndex(self, index: int, val: int):\n",
    "        \"\"\"\n",
    "        Add a node of value val before the index-th node in the double linked list.\n",
    "        If index equals to the length of double linked list, the node will be appended to the end of double linked list.\n",
    "        If index is greater that the length, the node will not be inserted.\n",
    "        \"\"\"\n",
    "        if index > self.size:\n",
    "            return\n",
    "        if index < 0:\n",
    "            index = 0\n",
    "        indexNode = self.__getNode(index)\n",
    "        toAddNode = DoubleListNode(val)\n",
    "        toAddNode.next = indexNode\n",
    "        toAddNode.prev = indexNode.prev\n",
    "        indexNode.prev = toAddNode\n",
    "        toAddNode.prev.next = toAddNode\n",
    "        self.size += 1\n",
    "\n",
    "\n",
    "    def deleteAtIndex(self, index: int):\n",
    "        \"\"\"\n",
    "        Delete the index-th node in the double linked list if the index is valid.\n",
    "        \"\"\"\n",
    "        if index < 0 or index >= self.size:\n",
    "            return\n",
    "        toDeleteNode = self.__getNode(index)\n",
    "        toDeleteNode.prev.next = toDeleteNode.next\n",
    "        toDeleteNode.next.prev = toDeleteNode.prev\n",
    "        self.size -= 1"
   ]
  },
  {
   "cell_type": "markdown",
   "metadata": {},
   "source": [
    "### Case 1"
   ]
  },
  {
   "cell_type": "code",
   "execution_count": 11,
   "metadata": {},
   "outputs": [
    {
     "data": {
      "text/plain": [
       "DoubleLinkedList([1, 2, 3, 4, 5])"
      ]
     },
     "execution_count": 11,
     "metadata": {},
     "output_type": "execute_result"
    }
   ],
   "source": [
    "myDoubleLinkedList = DoubleLinkedList()\n",
    "myDoubleLinkedList.addAtHead(3)\n",
    "myDoubleLinkedList.addAtHead(2)\n",
    "myDoubleLinkedList.addAtHead(1)\n",
    "myDoubleLinkedList.addAtTail(5)\n",
    "myDoubleLinkedList.addAtIndex(3, 4)\n",
    "myDoubleLinkedList"
   ]
  },
  {
   "cell_type": "code",
   "execution_count": 12,
   "metadata": {},
   "outputs": [
    {
     "data": {
      "text/plain": [
       "3"
      ]
     },
     "execution_count": 12,
     "metadata": {},
     "output_type": "execute_result"
    }
   ],
   "source": [
    "myDoubleLinkedList.get(2)"
   ]
  },
  {
   "cell_type": "code",
   "execution_count": 13,
   "metadata": {},
   "outputs": [
    {
     "data": {
      "text/plain": [
       "DoubleLinkedList([1, 2, 4, 5])"
      ]
     },
     "execution_count": 13,
     "metadata": {},
     "output_type": "execute_result"
    }
   ],
   "source": [
    "myDoubleLinkedList.deleteAtIndex(2)\n",
    "myDoubleLinkedList"
   ]
  },
  {
   "cell_type": "code",
   "execution_count": 14,
   "metadata": {},
   "outputs": [
    {
     "data": {
      "text/plain": [
       "DoubleLinkedList([1, 2, 4, 5])"
      ]
     },
     "execution_count": 14,
     "metadata": {},
     "output_type": "execute_result"
    }
   ],
   "source": [
    "myDoubleLinkedList.deleteAtIndex(9)\n",
    "myDoubleLinkedList"
   ]
  },
  {
   "cell_type": "code",
   "execution_count": 15,
   "metadata": {},
   "outputs": [
    {
     "data": {
      "text/plain": [
       "4"
      ]
     },
     "execution_count": 15,
     "metadata": {},
     "output_type": "execute_result"
    }
   ],
   "source": [
    "myDoubleLinkedList.size"
   ]
  },
  {
   "cell_type": "code",
   "execution_count": null,
   "metadata": {},
   "outputs": [],
   "source": []
  }
 ],
 "metadata": {
  "interpreter": {
   "hash": "e83c87145cfd5d139b0a7599b26c7533043aedf92a6f420dd74299e47a5263f5"
  },
  "kernelspec": {
   "display_name": "Python 3.9.7 ('base')",
   "language": "python",
   "name": "python3"
  },
  "language_info": {
   "codemirror_mode": {
    "name": "ipython",
    "version": 3
   },
   "file_extension": ".py",
   "mimetype": "text/x-python",
   "name": "python",
   "nbconvert_exporter": "python",
   "pygments_lexer": "ipython3",
   "version": "3.9.7"
  },
  "orig_nbformat": 4
 },
 "nbformat": 4,
 "nbformat_minor": 2
}
